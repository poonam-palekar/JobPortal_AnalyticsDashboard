{
 "cells": [
  {
   "cell_type": "markdown",
   "id": "950af731-3465-4286-8af6-3db3487010fd",
   "metadata": {},
   "source": [
    "##Numpy Basics"
   ]
  },
  {
   "cell_type": "code",
   "execution_count": 1,
   "id": "e940d14d-7bf4-4082-b2f3-9a020bed7fc1",
   "metadata": {},
   "outputs": [],
   "source": [
    "import numpy as np"
   ]
  },
  {
   "cell_type": "code",
   "execution_count": 2,
   "id": "89e70b30-bdb8-4462-b17a-d7ba608e432a",
   "metadata": {},
   "outputs": [],
   "source": [
    "myarr = np.array([[3,2,6,5]])"
   ]
  },
  {
   "cell_type": "code",
   "execution_count": 3,
   "id": "3d20b87e-6651-476e-8ff7-72f3c066180d",
   "metadata": {},
   "outputs": [
    {
     "data": {
      "text/plain": [
       "array([[3, 2, 6, 5]])"
      ]
     },
     "execution_count": 3,
     "metadata": {},
     "output_type": "execute_result"
    }
   ],
   "source": [
    "myarr"
   ]
  },
  {
   "cell_type": "code",
   "execution_count": 4,
   "id": "0d4f5546-16b1-40ed-a11e-ae401e4b810d",
   "metadata": {},
   "outputs": [],
   "source": [
    "zero = np.zeros((2,5))"
   ]
  },
  {
   "cell_type": "code",
   "execution_count": 5,
   "id": "769ceb42-177e-4640-96d3-e7ce0f2b5441",
   "metadata": {},
   "outputs": [
    {
     "data": {
      "text/plain": [
       "array([[0., 0., 0., 0., 0.],\n",
       "       [0., 0., 0., 0., 0.]])"
      ]
     },
     "execution_count": 5,
     "metadata": {},
     "output_type": "execute_result"
    }
   ],
   "source": [
    "zero"
   ]
  },
  {
   "cell_type": "code",
   "execution_count": 6,
   "id": "deaf6c81-8e22-42c9-a4ae-7b75e23a7345",
   "metadata": {},
   "outputs": [],
   "source": [
    "rng = np.arange(15)"
   ]
  },
  {
   "cell_type": "code",
   "execution_count": 7,
   "id": "950a68bb-fa6c-4162-a180-386d15947b57",
   "metadata": {},
   "outputs": [
    {
     "data": {
      "text/plain": [
       "array([ 0,  1,  2,  3,  4,  5,  6,  7,  8,  9, 10, 11, 12, 13, 14])"
      ]
     },
     "execution_count": 7,
     "metadata": {},
     "output_type": "execute_result"
    }
   ],
   "source": [
    "rng"
   ]
  },
  {
   "cell_type": "code",
   "execution_count": 9,
   "id": "2406c844-a086-4531-b5d5-e2c983cd62ac",
   "metadata": {},
   "outputs": [],
   "source": [
    "linespace = np.linspace(1,5,7)"
   ]
  },
  {
   "cell_type": "code",
   "execution_count": 10,
   "id": "63bcd157-7ac4-4a10-bf5c-7788180fe686",
   "metadata": {},
   "outputs": [
    {
     "data": {
      "text/plain": [
       "array([1.        , 1.66666667, 2.33333333, 3.        , 3.66666667,\n",
       "       4.33333333, 5.        ])"
      ]
     },
     "execution_count": 10,
     "metadata": {},
     "output_type": "execute_result"
    }
   ],
   "source": [
    "linespace"
   ]
  },
  {
   "cell_type": "code",
   "execution_count": 12,
   "id": "9927b05e-3a98-4e06-aef8-73dd55fc838b",
   "metadata": {},
   "outputs": [],
   "source": [
    "iden = np.identity(15)"
   ]
  },
  {
   "cell_type": "code",
   "execution_count": 13,
   "id": "c8ae8447-7648-4813-9b31-0aa46cf35131",
   "metadata": {},
   "outputs": [
    {
     "data": {
      "text/plain": [
       "array([[1., 0., 0., 0., 0., 0., 0., 0., 0., 0., 0., 0., 0., 0., 0.],\n",
       "       [0., 1., 0., 0., 0., 0., 0., 0., 0., 0., 0., 0., 0., 0., 0.],\n",
       "       [0., 0., 1., 0., 0., 0., 0., 0., 0., 0., 0., 0., 0., 0., 0.],\n",
       "       [0., 0., 0., 1., 0., 0., 0., 0., 0., 0., 0., 0., 0., 0., 0.],\n",
       "       [0., 0., 0., 0., 1., 0., 0., 0., 0., 0., 0., 0., 0., 0., 0.],\n",
       "       [0., 0., 0., 0., 0., 1., 0., 0., 0., 0., 0., 0., 0., 0., 0.],\n",
       "       [0., 0., 0., 0., 0., 0., 1., 0., 0., 0., 0., 0., 0., 0., 0.],\n",
       "       [0., 0., 0., 0., 0., 0., 0., 1., 0., 0., 0., 0., 0., 0., 0.],\n",
       "       [0., 0., 0., 0., 0., 0., 0., 0., 1., 0., 0., 0., 0., 0., 0.],\n",
       "       [0., 0., 0., 0., 0., 0., 0., 0., 0., 1., 0., 0., 0., 0., 0.],\n",
       "       [0., 0., 0., 0., 0., 0., 0., 0., 0., 0., 1., 0., 0., 0., 0.],\n",
       "       [0., 0., 0., 0., 0., 0., 0., 0., 0., 0., 0., 1., 0., 0., 0.],\n",
       "       [0., 0., 0., 0., 0., 0., 0., 0., 0., 0., 0., 0., 1., 0., 0.],\n",
       "       [0., 0., 0., 0., 0., 0., 0., 0., 0., 0., 0., 0., 0., 1., 0.],\n",
       "       [0., 0., 0., 0., 0., 0., 0., 0., 0., 0., 0., 0., 0., 0., 1.]])"
      ]
     },
     "execution_count": 13,
     "metadata": {},
     "output_type": "execute_result"
    }
   ],
   "source": [
    "iden"
   ]
  },
  {
   "cell_type": "code",
   "execution_count": 15,
   "id": "8cd22182-6c80-439f-8594-f8b4ccdde4dd",
   "metadata": {},
   "outputs": [
    {
     "data": {
      "text/plain": [
       "array([[3],\n",
       "       [2],\n",
       "       [6],\n",
       "       [5]])"
      ]
     },
     "execution_count": 15,
     "metadata": {},
     "output_type": "execute_result"
    }
   ],
   "source": [
    "myarr.reshape(4,1)"
   ]
  },
  {
   "cell_type": "code",
   "execution_count": 16,
   "id": "4cad064e-96b7-452b-a1ea-0a0034e058ea",
   "metadata": {},
   "outputs": [
    {
     "data": {
      "text/plain": [
       "(1, 4)"
      ]
     },
     "execution_count": 16,
     "metadata": {},
     "output_type": "execute_result"
    }
   ],
   "source": [
    "myarr.shape"
   ]
  },
  {
   "cell_type": "markdown",
   "id": "12431bd7-ebfd-4a4b-955c-f5c7218fbc74",
   "metadata": {},
   "source": [
    "Pandas Basics"
   ]
  },
  {
   "cell_type": "code",
   "execution_count": 18,
   "id": "1a3aa5d9-a1db-4cf8-8c79-a6bee2cbb33f",
   "metadata": {},
   "outputs": [],
   "source": [
    "import pandas as pd"
   ]
  },
  {
   "cell_type": "code",
   "execution_count": 19,
   "id": "8de113ef-a6a1-4749-837a-ffebf8ef5a64",
   "metadata": {},
   "outputs": [],
   "source": [
    "dict1={\n",
    "    \"name\":['keyur','sandesh','pratik','chinmay'],\n",
    "    \"marks\":['95','80','85','75'],\n",
    "    \"city\":['mumbai','nagpur','delhi','pune']\n",
    "}"
   ]
  },
  {
   "cell_type": "code",
   "execution_count": 20,
   "id": "f3169f42-156d-4957-bb3b-83d88b40f741",
   "metadata": {},
   "outputs": [],
   "source": [
    "df=pd.DataFrame(dict1)"
   ]
  },
  {
   "cell_type": "code",
   "execution_count": 21,
   "id": "1dcf325d-ac1e-4755-a45d-d8bb78b42ddb",
   "metadata": {},
   "outputs": [
    {
     "data": {
      "text/html": [
       "<div>\n",
       "<style scoped>\n",
       "    .dataframe tbody tr th:only-of-type {\n",
       "        vertical-align: middle;\n",
       "    }\n",
       "\n",
       "    .dataframe tbody tr th {\n",
       "        vertical-align: top;\n",
       "    }\n",
       "\n",
       "    .dataframe thead th {\n",
       "        text-align: right;\n",
       "    }\n",
       "</style>\n",
       "<table border=\"1\" class=\"dataframe\">\n",
       "  <thead>\n",
       "    <tr style=\"text-align: right;\">\n",
       "      <th></th>\n",
       "      <th>name</th>\n",
       "      <th>marks</th>\n",
       "      <th>city</th>\n",
       "    </tr>\n",
       "  </thead>\n",
       "  <tbody>\n",
       "    <tr>\n",
       "      <th>0</th>\n",
       "      <td>keyur</td>\n",
       "      <td>95</td>\n",
       "      <td>mumbai</td>\n",
       "    </tr>\n",
       "    <tr>\n",
       "      <th>1</th>\n",
       "      <td>sandesh</td>\n",
       "      <td>80</td>\n",
       "      <td>nagpur</td>\n",
       "    </tr>\n",
       "    <tr>\n",
       "      <th>2</th>\n",
       "      <td>pratik</td>\n",
       "      <td>85</td>\n",
       "      <td>delhi</td>\n",
       "    </tr>\n",
       "    <tr>\n",
       "      <th>3</th>\n",
       "      <td>chinmay</td>\n",
       "      <td>75</td>\n",
       "      <td>pune</td>\n",
       "    </tr>\n",
       "  </tbody>\n",
       "</table>\n",
       "</div>"
      ],
      "text/plain": [
       "      name marks    city\n",
       "0    keyur    95  mumbai\n",
       "1  sandesh    80  nagpur\n",
       "2   pratik    85   delhi\n",
       "3  chinmay    75    pune"
      ]
     },
     "execution_count": 21,
     "metadata": {},
     "output_type": "execute_result"
    }
   ],
   "source": [
    "df"
   ]
  },
  {
   "cell_type": "code",
   "execution_count": 22,
   "id": "ec29700c-5497-43bd-9b98-6a35edecec36",
   "metadata": {},
   "outputs": [],
   "source": [
    "df.index=[1,2,3,4]"
   ]
  },
  {
   "cell_type": "code",
   "execution_count": 23,
   "id": "59a7952e-6bbe-4b4a-b953-168e93de53f8",
   "metadata": {},
   "outputs": [
    {
     "data": {
      "text/html": [
       "<div>\n",
       "<style scoped>\n",
       "    .dataframe tbody tr th:only-of-type {\n",
       "        vertical-align: middle;\n",
       "    }\n",
       "\n",
       "    .dataframe tbody tr th {\n",
       "        vertical-align: top;\n",
       "    }\n",
       "\n",
       "    .dataframe thead th {\n",
       "        text-align: right;\n",
       "    }\n",
       "</style>\n",
       "<table border=\"1\" class=\"dataframe\">\n",
       "  <thead>\n",
       "    <tr style=\"text-align: right;\">\n",
       "      <th></th>\n",
       "      <th>name</th>\n",
       "      <th>marks</th>\n",
       "      <th>city</th>\n",
       "    </tr>\n",
       "  </thead>\n",
       "  <tbody>\n",
       "    <tr>\n",
       "      <th>1</th>\n",
       "      <td>keyur</td>\n",
       "      <td>95</td>\n",
       "      <td>mumbai</td>\n",
       "    </tr>\n",
       "    <tr>\n",
       "      <th>2</th>\n",
       "      <td>sandesh</td>\n",
       "      <td>80</td>\n",
       "      <td>nagpur</td>\n",
       "    </tr>\n",
       "    <tr>\n",
       "      <th>3</th>\n",
       "      <td>pratik</td>\n",
       "      <td>85</td>\n",
       "      <td>delhi</td>\n",
       "    </tr>\n",
       "    <tr>\n",
       "      <th>4</th>\n",
       "      <td>chinmay</td>\n",
       "      <td>75</td>\n",
       "      <td>pune</td>\n",
       "    </tr>\n",
       "  </tbody>\n",
       "</table>\n",
       "</div>"
      ],
      "text/plain": [
       "      name marks    city\n",
       "1    keyur    95  mumbai\n",
       "2  sandesh    80  nagpur\n",
       "3   pratik    85   delhi\n",
       "4  chinmay    75    pune"
      ]
     },
     "execution_count": 23,
     "metadata": {},
     "output_type": "execute_result"
    }
   ],
   "source": [
    "df"
   ]
  },
  {
   "cell_type": "code",
   "execution_count": 24,
   "id": "215552ac-589f-48d6-b56f-24ed4448a7f2",
   "metadata": {},
   "outputs": [],
   "source": [
    "series=pd.Series(np.random.rand(20))"
   ]
  },
  {
   "cell_type": "code",
   "execution_count": 25,
   "id": "2f248569-3f47-4840-8d8f-f936bc4f81be",
   "metadata": {},
   "outputs": [
    {
     "data": {
      "text/plain": [
       "0     0.925838\n",
       "1     0.310122\n",
       "2     0.096091\n",
       "3     0.501665\n",
       "4     0.714917\n",
       "5     0.890048\n",
       "6     0.321988\n",
       "7     0.610458\n",
       "8     0.285421\n",
       "9     0.111813\n",
       "10    0.810752\n",
       "11    0.369637\n",
       "12    0.021034\n",
       "13    0.353629\n",
       "14    0.168107\n",
       "15    0.299371\n",
       "16    0.001316\n",
       "17    0.183601\n",
       "18    0.127558\n",
       "19    0.080469\n",
       "dtype: float64"
      ]
     },
     "execution_count": 25,
     "metadata": {},
     "output_type": "execute_result"
    }
   ],
   "source": [
    "series"
   ]
  },
  {
   "cell_type": "code",
   "execution_count": 26,
   "id": "ca0796f0-05cb-4dbb-9278-e076b1244a31",
   "metadata": {},
   "outputs": [
    {
     "data": {
      "text/plain": [
       "pandas.core.series.Series"
      ]
     },
     "execution_count": 26,
     "metadata": {},
     "output_type": "execute_result"
    }
   ],
   "source": [
    "type(series)"
   ]
  },
  {
   "cell_type": "code",
   "execution_count": 28,
   "id": "b1fb5e62-776b-480a-b222-7032a2f1c930",
   "metadata": {},
   "outputs": [],
   "source": [
    "newdf=pd.DataFrame(np.random.rand(334,5),index = np.arange(334))"
   ]
  },
  {
   "cell_type": "code",
   "execution_count": 29,
   "id": "899d5f24-5053-489e-83f2-9b2bf136bf89",
   "metadata": {},
   "outputs": [
    {
     "data": {
      "text/html": [
       "<div>\n",
       "<style scoped>\n",
       "    .dataframe tbody tr th:only-of-type {\n",
       "        vertical-align: middle;\n",
       "    }\n",
       "\n",
       "    .dataframe tbody tr th {\n",
       "        vertical-align: top;\n",
       "    }\n",
       "\n",
       "    .dataframe thead th {\n",
       "        text-align: right;\n",
       "    }\n",
       "</style>\n",
       "<table border=\"1\" class=\"dataframe\">\n",
       "  <thead>\n",
       "    <tr style=\"text-align: right;\">\n",
       "      <th></th>\n",
       "      <th>0</th>\n",
       "      <th>1</th>\n",
       "      <th>2</th>\n",
       "      <th>3</th>\n",
       "      <th>4</th>\n",
       "    </tr>\n",
       "  </thead>\n",
       "  <tbody>\n",
       "    <tr>\n",
       "      <th>0</th>\n",
       "      <td>0.400624</td>\n",
       "      <td>0.132076</td>\n",
       "      <td>0.223318</td>\n",
       "      <td>0.035703</td>\n",
       "      <td>0.762554</td>\n",
       "    </tr>\n",
       "    <tr>\n",
       "      <th>1</th>\n",
       "      <td>0.311540</td>\n",
       "      <td>0.345132</td>\n",
       "      <td>0.751883</td>\n",
       "      <td>0.365315</td>\n",
       "      <td>0.964518</td>\n",
       "    </tr>\n",
       "    <tr>\n",
       "      <th>2</th>\n",
       "      <td>0.661391</td>\n",
       "      <td>0.913564</td>\n",
       "      <td>0.580619</td>\n",
       "      <td>0.578853</td>\n",
       "      <td>0.489444</td>\n",
       "    </tr>\n",
       "    <tr>\n",
       "      <th>3</th>\n",
       "      <td>0.971994</td>\n",
       "      <td>0.725477</td>\n",
       "      <td>0.171128</td>\n",
       "      <td>0.670740</td>\n",
       "      <td>0.582053</td>\n",
       "    </tr>\n",
       "    <tr>\n",
       "      <th>4</th>\n",
       "      <td>0.881631</td>\n",
       "      <td>0.868961</td>\n",
       "      <td>0.173120</td>\n",
       "      <td>0.847732</td>\n",
       "      <td>0.222700</td>\n",
       "    </tr>\n",
       "    <tr>\n",
       "      <th>...</th>\n",
       "      <td>...</td>\n",
       "      <td>...</td>\n",
       "      <td>...</td>\n",
       "      <td>...</td>\n",
       "      <td>...</td>\n",
       "    </tr>\n",
       "    <tr>\n",
       "      <th>329</th>\n",
       "      <td>0.833504</td>\n",
       "      <td>0.488470</td>\n",
       "      <td>0.638519</td>\n",
       "      <td>0.128384</td>\n",
       "      <td>0.921630</td>\n",
       "    </tr>\n",
       "    <tr>\n",
       "      <th>330</th>\n",
       "      <td>0.711398</td>\n",
       "      <td>0.888275</td>\n",
       "      <td>0.895772</td>\n",
       "      <td>0.535299</td>\n",
       "      <td>0.823657</td>\n",
       "    </tr>\n",
       "    <tr>\n",
       "      <th>331</th>\n",
       "      <td>0.018676</td>\n",
       "      <td>0.350492</td>\n",
       "      <td>0.622680</td>\n",
       "      <td>0.726020</td>\n",
       "      <td>0.975994</td>\n",
       "    </tr>\n",
       "    <tr>\n",
       "      <th>332</th>\n",
       "      <td>0.114657</td>\n",
       "      <td>0.763736</td>\n",
       "      <td>0.249243</td>\n",
       "      <td>0.564775</td>\n",
       "      <td>0.467320</td>\n",
       "    </tr>\n",
       "    <tr>\n",
       "      <th>333</th>\n",
       "      <td>0.965713</td>\n",
       "      <td>0.121478</td>\n",
       "      <td>0.341810</td>\n",
       "      <td>0.361453</td>\n",
       "      <td>0.267905</td>\n",
       "    </tr>\n",
       "  </tbody>\n",
       "</table>\n",
       "<p>334 rows × 5 columns</p>\n",
       "</div>"
      ],
      "text/plain": [
       "            0         1         2         3         4\n",
       "0    0.400624  0.132076  0.223318  0.035703  0.762554\n",
       "1    0.311540  0.345132  0.751883  0.365315  0.964518\n",
       "2    0.661391  0.913564  0.580619  0.578853  0.489444\n",
       "3    0.971994  0.725477  0.171128  0.670740  0.582053\n",
       "4    0.881631  0.868961  0.173120  0.847732  0.222700\n",
       "..        ...       ...       ...       ...       ...\n",
       "329  0.833504  0.488470  0.638519  0.128384  0.921630\n",
       "330  0.711398  0.888275  0.895772  0.535299  0.823657\n",
       "331  0.018676  0.350492  0.622680  0.726020  0.975994\n",
       "332  0.114657  0.763736  0.249243  0.564775  0.467320\n",
       "333  0.965713  0.121478  0.341810  0.361453  0.267905\n",
       "\n",
       "[334 rows x 5 columns]"
      ]
     },
     "execution_count": 29,
     "metadata": {},
     "output_type": "execute_result"
    }
   ],
   "source": [
    "newdf"
   ]
  },
  {
   "cell_type": "code",
   "execution_count": 30,
   "id": "ab069b31-a403-4da0-a93c-fafed86d150b",
   "metadata": {},
   "outputs": [
    {
     "data": {
      "text/html": [
       "<div>\n",
       "<style scoped>\n",
       "    .dataframe tbody tr th:only-of-type {\n",
       "        vertical-align: middle;\n",
       "    }\n",
       "\n",
       "    .dataframe tbody tr th {\n",
       "        vertical-align: top;\n",
       "    }\n",
       "\n",
       "    .dataframe thead th {\n",
       "        text-align: right;\n",
       "    }\n",
       "</style>\n",
       "<table border=\"1\" class=\"dataframe\">\n",
       "  <thead>\n",
       "    <tr style=\"text-align: right;\">\n",
       "      <th></th>\n",
       "      <th>0</th>\n",
       "      <th>1</th>\n",
       "      <th>2</th>\n",
       "      <th>3</th>\n",
       "      <th>4</th>\n",
       "    </tr>\n",
       "  </thead>\n",
       "  <tbody>\n",
       "    <tr>\n",
       "      <th>0</th>\n",
       "      <td>0.400624</td>\n",
       "      <td>0.132076</td>\n",
       "      <td>0.223318</td>\n",
       "      <td>0.035703</td>\n",
       "      <td>0.762554</td>\n",
       "    </tr>\n",
       "    <tr>\n",
       "      <th>1</th>\n",
       "      <td>0.311540</td>\n",
       "      <td>0.345132</td>\n",
       "      <td>0.751883</td>\n",
       "      <td>0.365315</td>\n",
       "      <td>0.964518</td>\n",
       "    </tr>\n",
       "    <tr>\n",
       "      <th>2</th>\n",
       "      <td>0.661391</td>\n",
       "      <td>0.913564</td>\n",
       "      <td>0.580619</td>\n",
       "      <td>0.578853</td>\n",
       "      <td>0.489444</td>\n",
       "    </tr>\n",
       "    <tr>\n",
       "      <th>3</th>\n",
       "      <td>0.971994</td>\n",
       "      <td>0.725477</td>\n",
       "      <td>0.171128</td>\n",
       "      <td>0.670740</td>\n",
       "      <td>0.582053</td>\n",
       "    </tr>\n",
       "    <tr>\n",
       "      <th>4</th>\n",
       "      <td>0.881631</td>\n",
       "      <td>0.868961</td>\n",
       "      <td>0.173120</td>\n",
       "      <td>0.847732</td>\n",
       "      <td>0.222700</td>\n",
       "    </tr>\n",
       "  </tbody>\n",
       "</table>\n",
       "</div>"
      ],
      "text/plain": [
       "          0         1         2         3         4\n",
       "0  0.400624  0.132076  0.223318  0.035703  0.762554\n",
       "1  0.311540  0.345132  0.751883  0.365315  0.964518\n",
       "2  0.661391  0.913564  0.580619  0.578853  0.489444\n",
       "3  0.971994  0.725477  0.171128  0.670740  0.582053\n",
       "4  0.881631  0.868961  0.173120  0.847732  0.222700"
      ]
     },
     "execution_count": 30,
     "metadata": {},
     "output_type": "execute_result"
    }
   ],
   "source": [
    "newdf.head(5)"
   ]
  },
  {
   "cell_type": "code",
   "execution_count": 31,
   "id": "165316f4-155d-4391-a95c-a610e1ac090c",
   "metadata": {},
   "outputs": [
    {
     "data": {
      "text/html": [
       "<div>\n",
       "<style scoped>\n",
       "    .dataframe tbody tr th:only-of-type {\n",
       "        vertical-align: middle;\n",
       "    }\n",
       "\n",
       "    .dataframe tbody tr th {\n",
       "        vertical-align: top;\n",
       "    }\n",
       "\n",
       "    .dataframe thead th {\n",
       "        text-align: right;\n",
       "    }\n",
       "</style>\n",
       "<table border=\"1\" class=\"dataframe\">\n",
       "  <thead>\n",
       "    <tr style=\"text-align: right;\">\n",
       "      <th></th>\n",
       "      <th>0</th>\n",
       "      <th>1</th>\n",
       "      <th>2</th>\n",
       "      <th>3</th>\n",
       "      <th>4</th>\n",
       "    </tr>\n",
       "  </thead>\n",
       "  <tbody>\n",
       "    <tr>\n",
       "      <th>329</th>\n",
       "      <td>0.833504</td>\n",
       "      <td>0.488470</td>\n",
       "      <td>0.638519</td>\n",
       "      <td>0.128384</td>\n",
       "      <td>0.921630</td>\n",
       "    </tr>\n",
       "    <tr>\n",
       "      <th>330</th>\n",
       "      <td>0.711398</td>\n",
       "      <td>0.888275</td>\n",
       "      <td>0.895772</td>\n",
       "      <td>0.535299</td>\n",
       "      <td>0.823657</td>\n",
       "    </tr>\n",
       "    <tr>\n",
       "      <th>331</th>\n",
       "      <td>0.018676</td>\n",
       "      <td>0.350492</td>\n",
       "      <td>0.622680</td>\n",
       "      <td>0.726020</td>\n",
       "      <td>0.975994</td>\n",
       "    </tr>\n",
       "    <tr>\n",
       "      <th>332</th>\n",
       "      <td>0.114657</td>\n",
       "      <td>0.763736</td>\n",
       "      <td>0.249243</td>\n",
       "      <td>0.564775</td>\n",
       "      <td>0.467320</td>\n",
       "    </tr>\n",
       "    <tr>\n",
       "      <th>333</th>\n",
       "      <td>0.965713</td>\n",
       "      <td>0.121478</td>\n",
       "      <td>0.341810</td>\n",
       "      <td>0.361453</td>\n",
       "      <td>0.267905</td>\n",
       "    </tr>\n",
       "  </tbody>\n",
       "</table>\n",
       "</div>"
      ],
      "text/plain": [
       "            0         1         2         3         4\n",
       "329  0.833504  0.488470  0.638519  0.128384  0.921630\n",
       "330  0.711398  0.888275  0.895772  0.535299  0.823657\n",
       "331  0.018676  0.350492  0.622680  0.726020  0.975994\n",
       "332  0.114657  0.763736  0.249243  0.564775  0.467320\n",
       "333  0.965713  0.121478  0.341810  0.361453  0.267905"
      ]
     },
     "execution_count": 31,
     "metadata": {},
     "output_type": "execute_result"
    }
   ],
   "source": [
    "newdf.tail(5)"
   ]
  },
  {
   "cell_type": "code",
   "execution_count": 32,
   "id": "d0bd6b4b-2b49-472a-84c5-aa72971d6433",
   "metadata": {},
   "outputs": [
    {
     "data": {
      "text/html": [
       "<div>\n",
       "<style scoped>\n",
       "    .dataframe tbody tr th:only-of-type {\n",
       "        vertical-align: middle;\n",
       "    }\n",
       "\n",
       "    .dataframe tbody tr th {\n",
       "        vertical-align: top;\n",
       "    }\n",
       "\n",
       "    .dataframe thead th {\n",
       "        text-align: right;\n",
       "    }\n",
       "</style>\n",
       "<table border=\"1\" class=\"dataframe\">\n",
       "  <thead>\n",
       "    <tr style=\"text-align: right;\">\n",
       "      <th></th>\n",
       "      <th>0</th>\n",
       "      <th>1</th>\n",
       "      <th>2</th>\n",
       "      <th>3</th>\n",
       "      <th>4</th>\n",
       "    </tr>\n",
       "  </thead>\n",
       "  <tbody>\n",
       "    <tr>\n",
       "      <th>0</th>\n",
       "      <td>0.400624</td>\n",
       "      <td>0.132076</td>\n",
       "      <td>0.223318</td>\n",
       "      <td>0.035703</td>\n",
       "      <td>0.762554</td>\n",
       "    </tr>\n",
       "    <tr>\n",
       "      <th>1</th>\n",
       "      <td>0.311540</td>\n",
       "      <td>0.345132</td>\n",
       "      <td>0.751883</td>\n",
       "      <td>0.365315</td>\n",
       "      <td>0.964518</td>\n",
       "    </tr>\n",
       "    <tr>\n",
       "      <th>2</th>\n",
       "      <td>0.661391</td>\n",
       "      <td>0.913564</td>\n",
       "      <td>0.580619</td>\n",
       "      <td>0.578853</td>\n",
       "      <td>0.489444</td>\n",
       "    </tr>\n",
       "    <tr>\n",
       "      <th>3</th>\n",
       "      <td>0.971994</td>\n",
       "      <td>0.725477</td>\n",
       "      <td>0.171128</td>\n",
       "      <td>0.670740</td>\n",
       "      <td>0.582053</td>\n",
       "    </tr>\n",
       "    <tr>\n",
       "      <th>4</th>\n",
       "      <td>0.881631</td>\n",
       "      <td>0.868961</td>\n",
       "      <td>0.173120</td>\n",
       "      <td>0.847732</td>\n",
       "      <td>0.222700</td>\n",
       "    </tr>\n",
       "    <tr>\n",
       "      <th>...</th>\n",
       "      <td>...</td>\n",
       "      <td>...</td>\n",
       "      <td>...</td>\n",
       "      <td>...</td>\n",
       "      <td>...</td>\n",
       "    </tr>\n",
       "    <tr>\n",
       "      <th>329</th>\n",
       "      <td>0.833504</td>\n",
       "      <td>0.488470</td>\n",
       "      <td>0.638519</td>\n",
       "      <td>0.128384</td>\n",
       "      <td>0.921630</td>\n",
       "    </tr>\n",
       "    <tr>\n",
       "      <th>330</th>\n",
       "      <td>0.711398</td>\n",
       "      <td>0.888275</td>\n",
       "      <td>0.895772</td>\n",
       "      <td>0.535299</td>\n",
       "      <td>0.823657</td>\n",
       "    </tr>\n",
       "    <tr>\n",
       "      <th>331</th>\n",
       "      <td>0.018676</td>\n",
       "      <td>0.350492</td>\n",
       "      <td>0.622680</td>\n",
       "      <td>0.726020</td>\n",
       "      <td>0.975994</td>\n",
       "    </tr>\n",
       "    <tr>\n",
       "      <th>332</th>\n",
       "      <td>0.114657</td>\n",
       "      <td>0.763736</td>\n",
       "      <td>0.249243</td>\n",
       "      <td>0.564775</td>\n",
       "      <td>0.467320</td>\n",
       "    </tr>\n",
       "    <tr>\n",
       "      <th>333</th>\n",
       "      <td>0.965713</td>\n",
       "      <td>0.121478</td>\n",
       "      <td>0.341810</td>\n",
       "      <td>0.361453</td>\n",
       "      <td>0.267905</td>\n",
       "    </tr>\n",
       "  </tbody>\n",
       "</table>\n",
       "<p>334 rows × 5 columns</p>\n",
       "</div>"
      ],
      "text/plain": [
       "            0         1         2         3         4\n",
       "0    0.400624  0.132076  0.223318  0.035703  0.762554\n",
       "1    0.311540  0.345132  0.751883  0.365315  0.964518\n",
       "2    0.661391  0.913564  0.580619  0.578853  0.489444\n",
       "3    0.971994  0.725477  0.171128  0.670740  0.582053\n",
       "4    0.881631  0.868961  0.173120  0.847732  0.222700\n",
       "..        ...       ...       ...       ...       ...\n",
       "329  0.833504  0.488470  0.638519  0.128384  0.921630\n",
       "330  0.711398  0.888275  0.895772  0.535299  0.823657\n",
       "331  0.018676  0.350492  0.622680  0.726020  0.975994\n",
       "332  0.114657  0.763736  0.249243  0.564775  0.467320\n",
       "333  0.965713  0.121478  0.341810  0.361453  0.267905\n",
       "\n",
       "[334 rows x 5 columns]"
      ]
     },
     "execution_count": 32,
     "metadata": {},
     "output_type": "execute_result"
    }
   ],
   "source": [
    "newdf.sort_index(axis=0)"
   ]
  },
  {
   "cell_type": "code",
   "execution_count": 34,
   "id": "eb0a9ad3-478c-4fa6-b8c6-18646c5a49ae",
   "metadata": {},
   "outputs": [
    {
     "data": {
      "text/html": [
       "<div>\n",
       "<style scoped>\n",
       "    .dataframe tbody tr th:only-of-type {\n",
       "        vertical-align: middle;\n",
       "    }\n",
       "\n",
       "    .dataframe tbody tr th {\n",
       "        vertical-align: top;\n",
       "    }\n",
       "\n",
       "    .dataframe thead th {\n",
       "        text-align: right;\n",
       "    }\n",
       "</style>\n",
       "<table border=\"1\" class=\"dataframe\">\n",
       "  <thead>\n",
       "    <tr style=\"text-align: right;\">\n",
       "      <th></th>\n",
       "      <th>1</th>\n",
       "      <th>2</th>\n",
       "      <th>3</th>\n",
       "      <th>4</th>\n",
       "    </tr>\n",
       "  </thead>\n",
       "  <tbody>\n",
       "    <tr>\n",
       "      <th>0</th>\n",
       "      <td>0.132076</td>\n",
       "      <td>0.223318</td>\n",
       "      <td>0.035703</td>\n",
       "      <td>0.762554</td>\n",
       "    </tr>\n",
       "    <tr>\n",
       "      <th>1</th>\n",
       "      <td>0.345132</td>\n",
       "      <td>0.751883</td>\n",
       "      <td>0.365315</td>\n",
       "      <td>0.964518</td>\n",
       "    </tr>\n",
       "    <tr>\n",
       "      <th>2</th>\n",
       "      <td>0.913564</td>\n",
       "      <td>0.580619</td>\n",
       "      <td>0.578853</td>\n",
       "      <td>0.489444</td>\n",
       "    </tr>\n",
       "    <tr>\n",
       "      <th>3</th>\n",
       "      <td>0.725477</td>\n",
       "      <td>0.171128</td>\n",
       "      <td>0.670740</td>\n",
       "      <td>0.582053</td>\n",
       "    </tr>\n",
       "    <tr>\n",
       "      <th>4</th>\n",
       "      <td>0.868961</td>\n",
       "      <td>0.173120</td>\n",
       "      <td>0.847732</td>\n",
       "      <td>0.222700</td>\n",
       "    </tr>\n",
       "    <tr>\n",
       "      <th>...</th>\n",
       "      <td>...</td>\n",
       "      <td>...</td>\n",
       "      <td>...</td>\n",
       "      <td>...</td>\n",
       "    </tr>\n",
       "    <tr>\n",
       "      <th>329</th>\n",
       "      <td>0.488470</td>\n",
       "      <td>0.638519</td>\n",
       "      <td>0.128384</td>\n",
       "      <td>0.921630</td>\n",
       "    </tr>\n",
       "    <tr>\n",
       "      <th>330</th>\n",
       "      <td>0.888275</td>\n",
       "      <td>0.895772</td>\n",
       "      <td>0.535299</td>\n",
       "      <td>0.823657</td>\n",
       "    </tr>\n",
       "    <tr>\n",
       "      <th>331</th>\n",
       "      <td>0.350492</td>\n",
       "      <td>0.622680</td>\n",
       "      <td>0.726020</td>\n",
       "      <td>0.975994</td>\n",
       "    </tr>\n",
       "    <tr>\n",
       "      <th>332</th>\n",
       "      <td>0.763736</td>\n",
       "      <td>0.249243</td>\n",
       "      <td>0.564775</td>\n",
       "      <td>0.467320</td>\n",
       "    </tr>\n",
       "    <tr>\n",
       "      <th>333</th>\n",
       "      <td>0.121478</td>\n",
       "      <td>0.341810</td>\n",
       "      <td>0.361453</td>\n",
       "      <td>0.267905</td>\n",
       "    </tr>\n",
       "  </tbody>\n",
       "</table>\n",
       "<p>334 rows × 4 columns</p>\n",
       "</div>"
      ],
      "text/plain": [
       "            1         2         3         4\n",
       "0    0.132076  0.223318  0.035703  0.762554\n",
       "1    0.345132  0.751883  0.365315  0.964518\n",
       "2    0.913564  0.580619  0.578853  0.489444\n",
       "3    0.725477  0.171128  0.670740  0.582053\n",
       "4    0.868961  0.173120  0.847732  0.222700\n",
       "..        ...       ...       ...       ...\n",
       "329  0.488470  0.638519  0.128384  0.921630\n",
       "330  0.888275  0.895772  0.535299  0.823657\n",
       "331  0.350492  0.622680  0.726020  0.975994\n",
       "332  0.763736  0.249243  0.564775  0.467320\n",
       "333  0.121478  0.341810  0.361453  0.267905\n",
       "\n",
       "[334 rows x 4 columns]"
      ]
     },
     "execution_count": 34,
     "metadata": {},
     "output_type": "execute_result"
    }
   ],
   "source": [
    "newdf.drop(0,axis=1)"
   ]
  },
  {
   "cell_type": "code",
   "execution_count": 35,
   "id": "6b8a10c2-f0da-457c-b635-edfdfb8b162d",
   "metadata": {},
   "outputs": [],
   "source": [
    "newdf.dropna(inplace=True)"
   ]
  },
  {
   "cell_type": "code",
   "execution_count": null,
   "id": "a080c06f-9f5a-44c5-abd8-0d1d4b58c104",
   "metadata": {},
   "outputs": [],
   "source": []
  }
 ],
 "metadata": {
  "kernelspec": {
   "display_name": "Python 3 (ipykernel)",
   "language": "python",
   "name": "python3"
  },
  "language_info": {
   "codemirror_mode": {
    "name": "ipython",
    "version": 3
   },
   "file_extension": ".py",
   "mimetype": "text/x-python",
   "name": "python",
   "nbconvert_exporter": "python",
   "pygments_lexer": "ipython3",
   "version": "3.12.1"
  }
 },
 "nbformat": 4,
 "nbformat_minor": 5
}
